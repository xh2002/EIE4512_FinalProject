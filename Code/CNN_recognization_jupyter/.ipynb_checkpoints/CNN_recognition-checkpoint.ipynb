{
 "cells": [
  {
   "cell_type": "code",
   "execution_count": 47,
   "id": "5e5cb5b5",
   "metadata": {},
   "outputs": [
    {
     "data": {
      "text/plain": [
       "'\\n输入：\\n    同目录下的模型文件 digit_and_symbol_classifier.h5\\n    同目录下的一组图片，a[x].png\\n输出：\\n    同目录下 output.jpg \\n\\n\\n'"
      ]
     },
     "execution_count": 47,
     "metadata": {},
     "output_type": "execute_result"
    }
   ],
   "source": [
    "'''\n",
    "输入：\n",
    "    同目录下的模型文件 digit_and_symbol_classifier.h5\n",
    "    同目录下的一组图片，1[字母].jpg\n",
    "输出：\n",
    "    同目录下 output.jpg \n",
    "计算：\n",
    "    接受2个最多2位数的输入\n",
    "    只能输出正数，小孩没学过负数\n",
    "\n",
    "'''"
   ]
  },
  {
   "cell_type": "code",
   "execution_count": 44,
   "id": "06705c1c",
   "metadata": {},
   "outputs": [],
   "source": [
    "import os\n",
    "import re\n",
    "import cv2\n",
    "import numpy as np\n",
    "from tensorflow.keras.models import load_model\n",
    "from tensorflow.keras.preprocessing.image import load_img, img_to_array\n",
    "from PIL import ImageFont, ImageDraw, Image"
   ]
  },
  {
   "cell_type": "code",
   "execution_count": 45,
   "id": "9151d4cb",
   "metadata": {},
   "outputs": [
    {
     "name": "stderr",
     "output_type": "stream",
     "text": [
      "WARNING:absl:Compiled the loaded model, but the compiled metrics have yet to be built. `model.compile_metrics` will be empty until you train or evaluate the model.\n"
     ]
    },
    {
     "name": "stdout",
     "output_type": "stream",
     "text": [
      "(None, 150, 150, 3)\n"
     ]
    }
   ],
   "source": [
    "# 加载模型 需要更改目录就在这里改\n",
    "model = load_model('CNN_result.h5')\n",
    "print(model.input_shape)"
   ]
  },
  {
   "cell_type": "code",
   "execution_count": 46,
   "id": "8d947556",
   "metadata": {},
   "outputs": [],
   "source": [
    "# 定义字符类别（与训练时使用的顺序一致）\n",
    "characters = '0123456789+-x÷'\n",
    "num_classes = len(characters)"
   ]
  },
  {
   "cell_type": "code",
   "execution_count": 47,
   "id": "4847cb5e",
   "metadata": {},
   "outputs": [],
   "source": [
    "# 映射类别索引到字符\n",
    "char_to_index = {char: i for i, char in enumerate(characters)}\n",
    "index_to_char = {i: char for char, i in char_to_index.items()}"
   ]
  },
  {
   "cell_type": "code",
   "execution_count": 48,
   "id": "8a73f034",
   "metadata": {},
   "outputs": [],
   "source": [
    "# 图像预处理函数\n",
    "def preprocess_image(image_path, target_size=(150, 150)):  # 修改为模型的输入尺寸\n",
    "    image = load_img(image_path, color_mode='rgb', target_size=target_size)  # 修改为RGB格式\n",
    "    image = img_to_array(image)\n",
    "    image = image.astype('float32') / 255\n",
    "    image = np.expand_dims(image, axis=0)  # 添加批次维度\n",
    "    \n",
    "    # 保存处理后的图像用于调试\n",
    "    processed_image_path = f'processed_{os.path.basename(image_path)}'\n",
    "    Image.fromarray((image[0] * 255).astype(np.uint8)).save(processed_image_path)\n",
    "    print(f\"Processed image saved as {processed_image_path}\")\n",
    "    \n",
    "    return image"
   ]
  },
  {
   "cell_type": "code",
   "execution_count": 49,
   "id": "1cd38eac",
   "metadata": {},
   "outputs": [],
   "source": [
    "# 识别图像内的字符\n",
    "def recognize_character(image_path):\n",
    "    image = preprocess_image(image_path)\n",
    "    predictions = model.predict(image)\n",
    "    predicted_index = np.argmax(predictions)\n",
    "    predicted_char = index_to_char[predicted_index]\n",
    "    return predicted_char"
   ]
  },
  {
   "cell_type": "code",
   "execution_count": 50,
   "id": "674ee6d5",
   "metadata": {},
   "outputs": [
    {
     "data": {
      "text/plain": [
       "'# 测试识别函数\\nimage_path = \\'a1.png\\' \\n\\npredicted_char = recognize_character(image_path)\\nprint(f\"Image a1.png: Predicted Character - {predicted_char}\")\\n\\nimage_path = \\'a2.png\\' \\n\\npredicted_char = recognize_character(image_path)\\nprint(f\"Image a1.png: Predicted Character - {predicted_char}\")'"
      ]
     },
     "execution_count": 50,
     "metadata": {},
     "output_type": "execute_result"
    }
   ],
   "source": [
    "'''# 测试识别函数\n",
    "image_path = 'a1.png' \n",
    "\n",
    "predicted_char = recognize_character(image_path)\n",
    "print(f\"Image a1.png: Predicted Character - {predicted_char}\")\n",
    "\n",
    "image_path = 'a2.png' \n",
    "\n",
    "predicted_char = recognize_character(image_path)\n",
    "print(f\"Image a1.png: Predicted Character - {predicted_char}\")'''"
   ]
  },
  {
   "cell_type": "code",
   "execution_count": 57,
   "id": "2fb9ceeb",
   "metadata": {},
   "outputs": [
    {
     "name": "stdout",
     "output_type": "stream",
     "text": [
      "Processed image saved as processed_a1.png\n",
      "\u001b[1m1/1\u001b[0m \u001b[32m━━━━━━━━━━━━━━━━━━━━\u001b[0m\u001b[37m\u001b[0m \u001b[1m0s\u001b[0m 22ms/step\n",
      "Processed image saved as processed_a2.png\n",
      "\u001b[1m1/1\u001b[0m \u001b[32m━━━━━━━━━━━━━━━━━━━━\u001b[0m\u001b[37m\u001b[0m \u001b[1m0s\u001b[0m 22ms/step\n",
      "Processed image saved as processed_a3.png\n",
      "\u001b[1m1/1\u001b[0m \u001b[32m━━━━━━━━━━━━━━━━━━━━\u001b[0m\u001b[37m\u001b[0m \u001b[1m0s\u001b[0m 24ms/step\n",
      "Processed image saved as processed_a4.png\n",
      "\u001b[1m1/1\u001b[0m \u001b[32m━━━━━━━━━━━━━━━━━━━━\u001b[0m\u001b[37m\u001b[0m \u001b[1m0s\u001b[0m 23ms/step\n",
      "Processed image saved as processed_a5.png\n",
      "\u001b[1m1/1\u001b[0m \u001b[32m━━━━━━━━━━━━━━━━━━━━\u001b[0m\u001b[37m\u001b[0m \u001b[1m0s\u001b[0m 25ms/step\n"
     ]
    }
   ],
   "source": [
    "# 获取当前目录下所有文件\n",
    "# 需要更改目录就在这里改\n",
    "files = os.listdir('.')\n",
    "\n",
    "# 正则表达式匹配以a开头，数字命名，jpg格式的文件\n",
    "image_files = sorted([f for f in files if re.match(r'a\\d+\\.png$', f)])\n",
    "# 获取所有识别出的字符\n",
    "recognized_characters = [recognize_character(image_file) for image_file in image_files]"
   ]
  },
  {
   "cell_type": "code",
   "execution_count": 58,
   "id": "843f9eaf",
   "metadata": {},
   "outputs": [
    {
     "name": "stdout",
     "output_type": "stream",
     "text": [
      "['7', '÷', '9', '-', '9']\n"
     ]
    }
   ],
   "source": [
    "print(recognized_characters)"
   ]
  },
  {
   "cell_type": "code",
   "execution_count": 59,
   "id": "bdd91c38",
   "metadata": {},
   "outputs": [],
   "source": [
    "import array"
   ]
  },
  {
   "cell_type": "code",
   "execution_count": 60,
   "id": "31c95001",
   "metadata": {},
   "outputs": [
    {
     "name": "stdout",
     "output_type": "stream",
     "text": [
      "7\n",
      "9\n",
      "9\n",
      "0.7777777777777778\n"
     ]
    }
   ],
   "source": [
    "# 验证程序\n",
    "# characters = '0123456789+-x÷'\n",
    "num1_str = \"\"\n",
    "num2_str = \"\"\n",
    "num3_str = \"\"\n",
    "sig_pos = []\n",
    "s = 0\n",
    "\n",
    "pos = 0\n",
    "for char in recognized_characters:\n",
    "    if char == \"+\" or char == \"-\" or char == \"x\" or char == \"÷\":\n",
    "        sig_pos.append(pos)\n",
    "    pos = pos + 1\n",
    "#print(sig_pos)\n",
    "\n",
    "# numbers\n",
    "for i in range(s, sig_pos[0]):\n",
    "    num1_str += recognized_characters[i]\n",
    "    num1 = int(num1_str)\n",
    "print(num1)\n",
    "for i in range(sig_pos[0] + 1, sig_pos[1]):\n",
    "    num2_str += recognized_characters[i]\n",
    "    num2 = int(num2_str)\n",
    "print(num2)\n",
    "for i in range(sig_pos[1] + 1, len(recognized_characters)):\n",
    "    num3_str += recognized_characters[i]\n",
    "    num3 = int(num3_str)\n",
    "print(num3)\n",
    "\n",
    "char = recognized_characters[sig_pos[0]]\n",
    "#print(char)\n",
    "if char == \"+\":\n",
    "    result = num1 + num2\n",
    "elif char == \"-\":\n",
    "    result = num1 - num2\n",
    "elif char == \"*\":\n",
    "    result = num1 * num2\n",
    "else:\n",
    "    result = num1 / num2\n",
    "print(result)"
   ]
  },
  {
   "cell_type": "code",
   "execution_count": 61,
   "id": "10212a2b",
   "metadata": {},
   "outputs": [
    {
     "name": "stdout",
     "output_type": "stream",
     "text": [
      "0.7777777777777778\n",
      "7 ÷ 9 = 0.78\n"
     ]
    }
   ],
   "source": [
    "if result == num3:\n",
    "    judge = \"CORRECT!\"\n",
    "else:\n",
    "    judge = \"T_T WRONG\"\n",
    "    print(result)\n",
    "\n",
    "num3 = round(result, 2)\n",
    "\n",
    "p_info = str(num1) + \" \" + char + \" \" + str(num2) + \" = \" + str(num3)\n",
    "print(p_info)    "
   ]
  },
  {
   "cell_type": "code",
   "execution_count": 62,
   "id": "79dd127b",
   "metadata": {},
   "outputs": [
    {
     "data": {
      "text/plain": [
       "True"
      ]
     },
     "execution_count": 62,
     "metadata": {},
     "output_type": "execute_result"
    }
   ],
   "source": [
    "# 创建一个白色背景的空白画布\n",
    "canvas = np.ones((150, 300, 3), dtype=\"uint8\") * 255\n",
    "\n",
    "# 转换为 PIL 图像\n",
    "pil_img = Image.fromarray(cv2.cvtColor(canvas, cv2.COLOR_BGR2RGB))\n",
    "\n",
    "# 创建一个绘图对象\n",
    "draw = ImageDraw.Draw(pil_img)\n",
    "\n",
    "# 定义字体\n",
    "font = ImageFont.truetype(\"arial.ttf\", 40)\n",
    "\n",
    "position1 = (10, 25)\n",
    "position2 = (10, 80)\n",
    "\n",
    "# 定义文本颜色\n",
    "font_color_info = (0, 0, 0)  # 黑色\n",
    "if judge == \"CORRECT!\":\n",
    "    font_color_judge = (0, 255, 0)  # 绿色\n",
    "else:\n",
    "    font_color_judge = (255, 0, 0)  # 红色\n",
    "    \n",
    "\n",
    "# 绘制文本\n",
    "draw.text(position1, judge, font=font, fill=font_color_judge)\n",
    "draw.text(position2, p_info, font=font, fill=font_color_info)\n",
    "\n",
    "# 转换回 OpenCV 图像\n",
    "canvas = cv2.cvtColor(np.array(pil_img), cv2.COLOR_RGB2BGR)\n",
    "\n",
    "# 保存图像\n",
    "output_image_path = 'output.jpg'\n",
    "cv2.imwrite(output_image_path, canvas)"
   ]
  },
  {
   "cell_type": "code",
   "execution_count": null,
   "id": "621acddb",
   "metadata": {},
   "outputs": [],
   "source": []
  }
 ],
 "metadata": {
  "kernelspec": {
   "display_name": "Python 3 (ipykernel)",
   "language": "python",
   "name": "python3"
  },
  "language_info": {
   "codemirror_mode": {
    "name": "ipython",
    "version": 3
   },
   "file_extension": ".py",
   "mimetype": "text/x-python",
   "name": "python",
   "nbconvert_exporter": "python",
   "pygments_lexer": "ipython3",
   "version": "3.11.4"
  }
 },
 "nbformat": 4,
 "nbformat_minor": 5
}
