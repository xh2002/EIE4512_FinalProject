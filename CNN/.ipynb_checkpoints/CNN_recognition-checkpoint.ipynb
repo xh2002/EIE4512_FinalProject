{
 "cells": [
  {
   "cell_type": "code",
   "execution_count": 47,
   "id": "5e5cb5b5",
   "metadata": {},
   "outputs": [
    {
     "data": {
      "text/plain": [
       "'\\n输入：\\n    同目录下的模型文件 digit_and_symbol_classifier.h5\\n    同目录下的一组图片，a[x].png\\n输出：\\n    同目录下 output.jpg \\n\\n\\n'"
      ]
     },
     "execution_count": 47,
     "metadata": {},
     "output_type": "execute_result"
    }
   ],
   "source": [
    "'''\n",
    "输入：\n",
    "    同目录下的模型文件 digit_and_symbol_classifier.h5\n",
    "    同目录下的一组图片，a[x].png\n",
    "输出：\n",
    "    同目录下 output.jpg \n",
    "\n",
    "\n",
    "'''"
   ]
  },
  {
   "cell_type": "code",
   "execution_count": 51,
   "id": "06705c1c",
   "metadata": {},
   "outputs": [],
   "source": [
    "import os\n",
    "import re\n",
    "import cv2\n",
    "import numpy as np\n",
    "from tensorflow.keras.models import load_model\n",
    "from tensorflow.keras.preprocessing.image import load_img, img_to_array\n",
    "from PIL import Image"
   ]
  },
  {
   "cell_type": "code",
   "execution_count": 52,
   "id": "9151d4cb",
   "metadata": {},
   "outputs": [
    {
     "name": "stderr",
     "output_type": "stream",
     "text": [
      "WARNING:absl:Compiled the loaded model, but the compiled metrics have yet to be built. `model.compile_metrics` will be empty until you train or evaluate the model.\n"
     ]
    },
    {
     "name": "stdout",
     "output_type": "stream",
     "text": [
      "(None, 150, 150, 3)\n"
     ]
    }
   ],
   "source": [
    "# 加载模型 需要更改目录就在这里改\n",
    "model = load_model('CNN_result.h5')\n",
    "print(model.input_shape)"
   ]
  },
  {
   "cell_type": "code",
   "execution_count": 53,
   "id": "8d947556",
   "metadata": {},
   "outputs": [],
   "source": [
    "# 定义字符类别（与训练时使用的顺序一致）\n",
    "characters = '0123456789+-x÷'\n",
    "num_classes = len(characters)"
   ]
  },
  {
   "cell_type": "code",
   "execution_count": 54,
   "id": "4847cb5e",
   "metadata": {},
   "outputs": [],
   "source": [
    "# 映射类别索引到字符\n",
    "char_to_index = {char: i for i, char in enumerate(characters)}\n",
    "index_to_char = {i: char for char, i in char_to_index.items()}"
   ]
  },
  {
   "cell_type": "code",
   "execution_count": 55,
   "id": "8a73f034",
   "metadata": {},
   "outputs": [],
   "source": [
    "# 图像预处理函数\n",
    "def preprocess_image(image_path, target_size=(150, 150)):  # 修改为模型的输入尺寸\n",
    "    image = load_img(image_path, color_mode='rgb', target_size=target_size)  # 修改为RGB格式\n",
    "    image = img_to_array(image)\n",
    "    image = image.astype('float32') / 255\n",
    "    image = np.expand_dims(image, axis=0)  # 添加批次维度\n",
    "    \n",
    "    # 保存处理后的图像用于调试\n",
    "    processed_image_path = f'processed_{os.path.basename(image_path)}'\n",
    "    Image.fromarray((image[0] * 255).astype(np.uint8)).save(processed_image_path)\n",
    "    print(f\"Processed image saved as {processed_image_path}\")\n",
    "    \n",
    "    return image"
   ]
  },
  {
   "cell_type": "code",
   "execution_count": 56,
   "id": "1cd38eac",
   "metadata": {},
   "outputs": [],
   "source": [
    "# 识别图像内的字符\n",
    "def recognize_character(image_path):\n",
    "    image = preprocess_image(image_path)\n",
    "    predictions = model.predict(image)\n",
    "    predicted_index = np.argmax(predictions)\n",
    "    predicted_char = index_to_char[predicted_index]\n",
    "    return predicted_char"
   ]
  },
  {
   "cell_type": "code",
   "execution_count": 59,
   "id": "674ee6d5",
   "metadata": {},
   "outputs": [
    {
     "name": "stdout",
     "output_type": "stream",
     "text": [
      "Processed image saved as processed_a1.png\n",
      "\u001b[1m1/1\u001b[0m \u001b[32m━━━━━━━━━━━━━━━━━━━━\u001b[0m\u001b[37m\u001b[0m \u001b[1m0s\u001b[0m 32ms/step\n",
      "Image a1.png: Predicted Character - x\n",
      "Processed image saved as processed_a2.png\n",
      "\u001b[1m1/1\u001b[0m \u001b[32m━━━━━━━━━━━━━━━━━━━━\u001b[0m\u001b[37m\u001b[0m \u001b[1m0s\u001b[0m 29ms/step\n",
      "Image a1.png: Predicted Character - ÷\n"
     ]
    }
   ],
   "source": [
    "'''# 测试识别函数\n",
    "image_path = 'a1.png' \n",
    "\n",
    "predicted_char = recognize_character(image_path)\n",
    "print(f\"Image a1.png: Predicted Character - {predicted_char}\")\n",
    "\n",
    "image_path = 'a2.png' \n",
    "\n",
    "predicted_char = recognize_character(image_path)\n",
    "print(f\"Image a1.png: Predicted Character - {predicted_char}\")'''"
   ]
  },
  {
   "cell_type": "code",
   "execution_count": 27,
   "id": "2fb9ceeb",
   "metadata": {},
   "outputs": [
    {
     "name": "stdout",
     "output_type": "stream",
     "text": [
      "\u001b[1m1/1\u001b[0m \u001b[32m━━━━━━━━━━━━━━━━━━━━\u001b[0m\u001b[37m\u001b[0m \u001b[1m0s\u001b[0m 32ms/step\n",
      "\u001b[1m1/1\u001b[0m \u001b[32m━━━━━━━━━━━━━━━━━━━━\u001b[0m\u001b[37m\u001b[0m \u001b[1m0s\u001b[0m 34ms/step\n",
      "Canvas saved as output.jpg\n"
     ]
    }
   ],
   "source": [
    "# 获取当前目录下所有文件\n",
    "# 需要更改目录就在这里改\n",
    "files = os.listdir('.')\n",
    "\n",
    "# 正则表达式匹配以a开头，数字命名，jpg格式的文件\n",
    "image_files = sorted([f for f in files if re.match(r'a\\d+\\.jpg$', f)])\n",
    "\n",
    "# 获取所有识别出的字符\n",
    "recognized_characters = [recognize_character(image_file) for image_file in image_files]\n",
    "\n",
    "# 创建一个空白画布\n",
    "canvas_width = 50 * len(recognized_characters)\n",
    "canvas_height = 100\n",
    "canvas = np.ones((canvas_height, canvas_width, 3), dtype=np.uint8) * 255\n",
    "\n",
    "# 设置字体、位置、大小和颜色\n",
    "font = cv2.FONT_HERSHEY_SIMPLEX\n",
    "font_scale = 2\n",
    "font_color = (0, 0, 0)\n",
    "line_type = 2\n",
    "\n",
    "# 在画布上显示所有识别出的字符\n",
    "for i, char in enumerate(recognized_characters):\n",
    "    position = (i * 50 + 10, 70)\n",
    "    \n",
    "    cv2.putText(canvas, \n",
    "                char, \n",
    "                position, \n",
    "                font, \n",
    "                font_scale, \n",
    "                font_color, \n",
    "                line_type)\n",
    "\n",
    "'''# 显示画布 不需要显示的话注释掉就行\n",
    "cv2.imshow(\"Recognized Characters\", canvas)\n",
    "cv2.waitKey(0)\n",
    "cv2.destroyAllWindows()'''\n",
    "\n",
    "# 将画布保存为本地图像文件 需要更改目录就在这里改\n",
    "output_image_path = 'output.jpg'\n",
    "cv2.imwrite(output_image_path, canvas)\n",
    "print(f\"Canvas saved as {output_image_path}\")"
   ]
  },
  {
   "cell_type": "code",
   "execution_count": null,
   "id": "843f9eaf",
   "metadata": {},
   "outputs": [],
   "source": []
  }
 ],
 "metadata": {
  "kernelspec": {
   "display_name": "Python 3 (ipykernel)",
   "language": "python",
   "name": "python3"
  },
  "language_info": {
   "codemirror_mode": {
    "name": "ipython",
    "version": 3
   },
   "file_extension": ".py",
   "mimetype": "text/x-python",
   "name": "python",
   "nbconvert_exporter": "python",
   "pygments_lexer": "ipython3",
   "version": "3.11.4"
  }
 },
 "nbformat": 4,
 "nbformat_minor": 5
}
